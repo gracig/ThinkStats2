{
  "cells": [
    {
      "cell_type": "code",
      "source": [
        "import thinkstats2\n",
        "hist = thinkstats2.Hist([1,2,2,3,5])\n",
        "hist"
      ],
      "outputs": [
        {
          "output_type": "execute_result",
          "execution_count": 1,
          "data": {
            "text/plain": [
              "Hist({1: 1, 2: 2, 3: 1, 5: 1})"
            ]
          },
          "metadata": {}
        }
      ],
      "execution_count": 1,
      "metadata": {
        "collapsed": false,
        "outputHidden": false,
        "inputHidden": false
      }
    },
    {
      "cell_type": "code",
      "source": [
        "hist.Freq(2)"
      ],
      "outputs": [
        {
          "output_type": "execute_result",
          "execution_count": 2,
          "data": {
            "text/plain": [
              "2"
            ]
          },
          "metadata": {}
        }
      ],
      "execution_count": 2,
      "metadata": {
        "collapsed": false,
        "outputHidden": false,
        "inputHidden": false
      }
    },
    {
      "cell_type": "code",
      "source": [
        "hist[2]"
      ],
      "outputs": [
        {
          "output_type": "execute_result",
          "execution_count": 3,
          "data": {
            "text/plain": [
              "2"
            ]
          },
          "metadata": {}
        }
      ],
      "execution_count": 3,
      "metadata": {
        "collapsed": false,
        "outputHidden": false,
        "inputHidden": false
      }
    },
    {
      "cell_type": "code",
      "source": [
        "hist.Freq(4)"
      ],
      "outputs": [
        {
          "output_type": "execute_result",
          "execution_count": 4,
          "data": {
            "text/plain": [
              "0"
            ]
          },
          "metadata": {}
        }
      ],
      "execution_count": 4,
      "metadata": {
        "collapsed": false,
        "outputHidden": false,
        "inputHidden": false
      }
    },
    {
      "cell_type": "code",
      "source": [
        "hist.Values()"
      ],
      "outputs": [
        {
          "output_type": "execute_result",
          "execution_count": 5,
          "data": {
            "text/plain": [
              "dict_keys([1, 2, 3, 5])"
            ]
          },
          "metadata": {}
        }
      ],
      "execution_count": 5,
      "metadata": {
        "collapsed": false,
        "outputHidden": false,
        "inputHidden": false
      }
    },
    {
      "cell_type": "code",
      "source": [
        "for val in sorted (hist.Values()):\n",
        "    print (val, hist.Freq(val))"
      ],
      "outputs": [
        {
          "output_type": "stream",
          "name": "stdout",
          "text": [
            "1 1\n",
            "2 2\n",
            "3 1\n",
            "5 1\n"
          ]
        }
      ],
      "execution_count": 6,
      "metadata": {
        "collapsed": false,
        "outputHidden": false,
        "inputHidden": false
      }
    },
    {
      "cell_type": "code",
      "source": [
        "for val, freq in hist.Items():\n",
        "    print(val,freq)"
      ],
      "outputs": [
        {
          "output_type": "stream",
          "name": "stdout",
          "text": [
            "1 1\n",
            "2 2\n",
            "3 1\n",
            "5 1\n"
          ]
        }
      ],
      "execution_count": 7,
      "metadata": {
        "collapsed": false,
        "outputHidden": false,
        "inputHidden": false
      }
    },
    {
      "cell_type": "code",
      "source": [
        "import thinkplot\n",
        "thinkplot.Hist(hist, label=\"teste\")\n",
        "thinkplot.Show(title=\"Histogram\", xlabel=\"Value\", ylabel=\"Frequency\" )"
      ],
      "outputs": [
        {
          "output_type": "display_data",
          "data": {
            "text/plain": [
              "<Figure size 432x288 with 1 Axes>"
            ],
            "image/png": "[encoded data removed]"
          },
          "metadata": {}
        },
        {
          "output_type": "display_data",
          "data": {
            "text/plain": [
              "<Figure size 576x432 with 0 Axes>"
            ]
          },
          "metadata": {}
        }
      ],
      "execution_count": 8,
      "metadata": {
        "collapsed": false,
        "outputHidden": false,
        "inputHidden": false
      }
    },
    {
      "cell_type": "code",
      "source": [
        "import nsfg"
      ],
      "outputs": [],
      "execution_count": 9,
      "metadata": {
        "collapsed": false,
        "outputHidden": false,
        "inputHidden": false
      }
    },
    {
      "cell_type": "code",
      "source": [
        "preg = nsfg.ReadFemPreg()\n",
        "live = preg[ preg.outcome == 1 ]"
      ],
      "outputs": [],
      "execution_count": 10,
      "metadata": {
        "collapsed": false,
        "outputHidden": false,
        "inputHidden": false
      }
    },
    {
      "cell_type": "code",
      "source": [
        "hist = thinkstats2.Hist(live.birthwgt_lb, label=\"birthwgt_lb\")\n",
        "thinkplot.Hist(hist)\n",
        "thinkplot.Show(xlabel=\"pounds\", ylabel=\"frequency\")"
      ],
      "outputs": [
        {
          "output_type": "display_data",
          "data": {
            "text/plain": [
              "<Figure size 432x288 with 1 Axes>"
            ],
            "image/png": "[encoded data removed]"
          },
          "metadata": {}
        },
        {
          "output_type": "display_data",
          "data": {
            "text/plain": [
              "<Figure size 576x432 with 0 Axes>"
            ]
          },
          "metadata": {}
        }
      ],
      "execution_count": 11,
      "metadata": {
        "collapsed": false,
        "outputHidden": false,
        "inputHidden": false
      }
    },
    {
      "cell_type": "code",
      "source": [
        "hist = thinkstats2.Hist(live.birthwgt_oz, label=\"birthwgt_oz\")\n",
        "thinkplot.Hist(hist)\n",
        "thinkplot.Show(xlabel=\"ounces\", ylabel=\"frequency\")"
      ],
      "outputs": [
        {
          "output_type": "display_data",
          "data": {
            "text/plain": [
              "<Figure size 432x288 with 1 Axes>"
            ],
            "image/png": "[encoded data removed]"
          },
          "metadata": {}
        },
        {
          "output_type": "display_data",
          "data": {
            "text/plain": [
              "<Figure size 576x432 with 0 Axes>"
            ]
          },
          "metadata": {}
        }
      ],
      "execution_count": 12,
      "metadata": {
        "collapsed": false,
        "outputHidden": false,
        "inputHidden": false
      }
    },
    {
      "cell_type": "code",
      "source": [
        "import numpy as np\n",
        "age = np.floor(live.agepreg)\n",
        "hist = thinkstats2.Hist(age, label=\"agepreg\")\n",
        "thinkplot.Hist(hist)\n",
        "thinkplot.Show(xlabel=\"years\", ylabel=\"frequency\")"
      ],
      "outputs": [
        {
          "output_type": "display_data",
          "data": {
            "text/plain": [
              "<Figure size 432x288 with 1 Axes>"
            ],
            "image/png": "[encoded data removed]"
          },
          "metadata": {}
        },
        {
          "output_type": "display_data",
          "data": {
            "text/plain": [
              "<Figure size 576x432 with 0 Axes>"
            ]
          },
          "metadata": {}
        }
      ],
      "execution_count": 24,
      "metadata": {
        "collapsed": false,
        "outputHidden": false,
        "inputHidden": false
      }
    },
    {
      "cell_type": "code",
      "source": [
        "hist = thinkstats2.Hist(live.prglngth, label=\"prglngth\")\n",
        "thinkplot.Hist(hist)\n",
        "thinkplot.Show(xlabel=\"weeks\", ylabel=\"frequency\")"
      ],
      "outputs": [
        {
          "output_type": "display_data",
          "data": {
            "text/plain": [
              "<Figure size 432x288 with 1 Axes>"
            ],
            "image/png": "[encoded data removed]"
          },
          "metadata": {}
        },
        {
          "output_type": "display_data",
          "data": {
            "text/plain": [
              "<Figure size 576x432 with 0 Axes>"
            ]
          },
          "metadata": {}
        }
      ],
      "execution_count": 14,
      "metadata": {
        "collapsed": false,
        "outputHidden": false,
        "inputHidden": false
      }
    },
    {
      "cell_type": "code",
      "source": [
        "hist.Smallest(7)"
      ],
      "outputs": [
        {
          "output_type": "execute_result",
          "execution_count": 15,
          "data": {
            "text/plain": [
              "[(0, 1), (4, 1), (9, 1), (13, 1), (17, 2), (18, 1), (19, 1)]"
            ]
          },
          "metadata": {}
        }
      ],
      "execution_count": 15,
      "metadata": {
        "collapsed": false,
        "outputHidden": false,
        "inputHidden": false
      }
    },
    {
      "cell_type": "code",
      "source": [
        "hist.Largest(7)"
      ],
      "outputs": [
        {
          "output_type": "execute_result",
          "execution_count": 16,
          "data": {
            "text/plain": [
              "[(50, 2), (48, 7), (47, 1), (46, 1), (45, 10), (44, 46), (43, 148)]"
            ]
          },
          "metadata": {}
        }
      ],
      "execution_count": 16,
      "metadata": {
        "collapsed": false,
        "outputHidden": false,
        "inputHidden": false
      }
    },
    {
      "cell_type": "code",
      "source": [
        "firsts = live[ (live.birthord == 1)]\n",
        "others = live[live.birthord != 1]\n",
        "first_hist  = thinkstats2.Hist(firsts.prglngth, label=\"First Borns\")\n",
        "others_hist = thinkstats2.Hist(others.prglngth, label=\"Not First Borns\")\n",
        "width=0.45\n",
        "thinkplot.PrePlot(2)\n",
        "thinkplot.Hist(first_hist , align='right', width=width)\n",
        "thinkplot.Hist(others_hist, align='left' , width=width)\n",
        "thinkplot.Show(xlabel=\"weeks\", ylabel=\"frequency\", xlim=[27,46])\n"
      ],
      "outputs": [
        {
          "output_type": "display_data",
          "data": {
            "text/plain": [
              "<Figure size 432x288 with 1 Axes>"
            ],
            "image/png": "[encoded data removed]"
          },
          "metadata": {}
        },
        {
          "output_type": "display_data",
          "data": {
            "text/plain": [
              "<Figure size 576x432 with 0 Axes>"
            ]
          },
          "metadata": {}
        }
      ],
      "execution_count": 17,
      "metadata": {
        "collapsed": false,
        "outputHidden": false,
        "inputHidden": false
      }
    },
    {
      "cell_type": "code",
      "source": [
        "firsts.caseid.count()"
      ],
      "outputs": [
        {
          "output_type": "execute_result",
          "execution_count": 18,
          "data": {
            "text/plain": [
              "4413"
            ]
          },
          "metadata": {}
        }
      ],
      "execution_count": 18,
      "metadata": {
        "collapsed": false,
        "outputHidden": false,
        "inputHidden": false
      }
    },
    {
      "cell_type": "code",
      "source": [
        "others.caseid.count()"
      ],
      "outputs": [
        {
          "output_type": "execute_result",
          "execution_count": 19,
          "data": {
            "text/plain": [
              "4735"
            ]
          },
          "metadata": {}
        }
      ],
      "execution_count": 19,
      "metadata": {
        "collapsed": false,
        "outputHidden": false,
        "inputHidden": false
      }
    },
    {
      "cell_type": "code",
      "source": [
        "mean = live.prglngth.mean()\n",
        "var = live.prglngth.var()\n",
        "std = live.prglngth.std()\n",
        "summary = [mean,var,std]\n",
        "print(\"\"\"\n",
        "For all live births, the mean pregnancy length is {mean:.2f} weeks, \n",
        "the standard deviation is {std:.2f} weeks, which means we \n",
        "should expect deviations of 2-3 weeks to be common.\n",
        "\n",
        "Variance of pregnance length is {var:.2f}, which is hard to interpret, \n",
        "specially since the unis are weeks2, os square weeks. \n",
        "Variance is useful in some calculations, but it is not a good summary statistics\n",
        "\"\"\".format(\n",
        "    mean=mean, \n",
        "    std=std, \n",
        "    var=var)\n",
        ")"
      ],
      "outputs": [
        {
          "output_type": "stream",
          "name": "stdout",
          "text": [
            "\n",
            "For all live births, the mean pregnancy length is 38.56 weeks, \n",
            "the standard deviation is 2.70 weeks, which means we \n",
            "should expect deviations of 2-3 weeks to be common.\n",
            "\n",
            "Variance of pregnance length is 7.30, which is hard to interpret, \n",
            "specially since the unis are weeks2, os square weeks. \n",
            "Variance is useful in some calculations, but it is not a good summary statistics\n",
            "\n"
          ]
        }
      ],
      "execution_count": 20,
      "metadata": {
        "collapsed": false,
        "outputHidden": false,
        "inputHidden": false
      }
    },
    {
      "cell_type": "code",
      "source": [],
      "outputs": [],
      "execution_count": 21,
      "metadata": {
        "collapsed": false,
        "outputHidden": false,
        "inputHidden": false
      }
    },
    {
      "cell_type": "markdown",
      "source": [
        "Cohen's d is a statistic tha compares the difference between groups to the variability within groups: \n",
        "```\n",
        "d = mean(x1) - mean(x2)\n",
        "    -------------------\n",
        "           s\n",
        "```\n",
        "Where x1 and x2 are both groups\n",
        "s = \"pooled standard deviation\""
      ],
      "metadata": {
        "collapsed": false,
        "outputHidden": false,
        "inputHidden": false
      }
    },
    {
      "cell_type": "code",
      "source": [
        "import math\n",
        "diff       = firsts.prglngth.mean()-others.prglngth.mean()\n",
        "var1, var2 = firsts.prglngth.var(), others.prglngth.var()\n",
        "n1,n2      = len(firsts), len(others)\n",
        "pooled_var = (n1 * var1 + n2 * var2) / (n1 + n2)\n",
        "d = diff / math.sqrt(pooled_var)\n",
        "d"
      ],
      "outputs": [
        {
          "output_type": "execute_result",
          "execution_count": 21,
          "data": {
            "text/plain": [
              "0.028879044654449834"
            ]
          },
          "metadata": {}
        }
      ],
      "execution_count": 21,
      "metadata": {
        "collapsed": false,
        "outputHidden": false,
        "inputHidden": false
      }
    },
    {
      "cell_type": "markdown",
      "source": [
        "Which summary statistics would you use if you wanted to get a story on the evening news?\n"
      ],
      "metadata": {
        "collapsed": false,
        "outputHidden": false,
        "inputHidden": false
      }
    },
    {
      "cell_type": "code",
      "source": [
        "fmean, omean = firsts.prglngth.mean(), others.prglngth.mean()\n",
        "fstd, ostd   = firsts.prglngth.std(),  others.prglngth.std()\n",
        "diff = (fmean - omean)\n",
        "var1, var2 = firsts.prglngth.var(), others.prglngth.var()\n",
        "n1,n2      = len(firsts), len(others)\n",
        "pooled_var = (n1 * var1 + n2 * var2) / (n1 + n2)\n",
        "d = diff / math.sqrt(pooled_var)\n",
        "print(\"\"\"\n",
        "{meanTitle:>13}{sdTitle:>7}{cohenTitle:>8}{unityTitle:>9}\n",
        "First:  {fmean:>5.2f} {fstd:>6.2f} {d:>7.2f} {unity:>8}\n",
        "Other:  {omean:>5.2f} {ostd:>6.2f} {d:>7.2f} {unity:>8}\n",
        "\n",
        "When comparing simple averages, first borns are likely to born  {meandiff:.2f} (hrs) later than other babies in average\n",
        "\n",
        "When comparing averages with their variations, it's common for first borns come late by {d:.2f} hrs than other babies\n",
        "\n",
        "\"\"\".format(\n",
        "    meanTitle = \"mean\",\n",
        "    sdTitle = \"sd\",\n",
        "    cohenTitle = \"Coh.D\",\n",
        "    unityTitle = \"Unity\",\n",
        "    unity = \"weeks\",\n",
        "    fmean=fmean, \n",
        "    fstd=fstd,\n",
        "    omean=omean, \n",
        "    ostd=ostd,\n",
        "    meandiff=diff*7*24,\n",
        "    d = d * 7 * 24\n",
        ")\n",
        ")"
      ],
      "outputs": [
        {
          "output_type": "stream",
          "name": "stdout",
          "text": [
            "\n",
            "         mean     sd   Coh.D    Unity\n",
            "First:  38.60   2.79    4.85    weeks\n",
            "Other:  38.52   2.62    4.85    weeks\n",
            "\n",
            "When comparing simple averages, first borns are likely to born  13.11 (hrs) later than other babies in average\n",
            "\n",
            "When comparing averages with their variations, it's common for first borns come late by 4.85 hrs than other babies\n",
            "\n\n"
          ]
        }
      ],
      "execution_count": 22,
      "metadata": {
        "collapsed": false,
        "outputHidden": false,
        "inputHidden": false
      }
    },
    {
      "cell_type": "code",
      "source": [],
      "outputs": [],
      "execution_count": 23,
      "metadata": {
        "collapsed": false,
        "outputHidden": false,
        "inputHidden": false
      }
    },
    {
      "cell_type": "code",
      "source": [],
      "outputs": [],
      "execution_count": 23,
      "metadata": {
        "collapsed": false,
        "outputHidden": false,
        "inputHidden": false
      }
    },
    {
      "cell_type": "code",
      "source": [],
      "outputs": [],
      "execution_count": 23,
      "metadata": {
        "collapsed": false,
        "outputHidden": false,
        "inputHidden": false
      }
    },
    {
      "cell_type": "code",
      "source": [],
      "outputs": [],
      "execution_count": 23,
      "metadata": {
        "collapsed": false,
        "outputHidden": false,
        "inputHidden": false
      }
    },
    {
      "cell_type": "code",
      "source": [],
      "outputs": [],
      "execution_count": 23,
      "metadata": {
        "collapsed": false,
        "outputHidden": false,
        "inputHidden": false
      }
    },
    {
      "cell_type": "code",
      "source": [],
      "outputs": [],
      "execution_count": 23,
      "metadata": {
        "collapsed": false,
        "outputHidden": false,
        "inputHidden": false
      }
    },
    {
      "cell_type": "code",
      "source": [],
      "outputs": [],
      "execution_count": 23,
      "metadata": {
        "collapsed": false,
        "outputHidden": false,
        "inputHidden": false
      }
    }
  ],
  "metadata": {
    "kernel_info": {
      "name": "thinkstats"
    },
    "kernelspec": {
      "name": "thinkstats",
      "language": "python",
      "display_name": "Python (ThinkStats)"
    },
    "language_info": {
      "name": "python",
      "version": "3.6.4",
      "mimetype": "text/x-python",
      "codemirror_mode": {
        "name": "ipython",
        "version": 3
      },
      "pygments_lexer": "ipython3",
      "nbconvert_exporter": "python",
      "file_extension": ".py"
    },
    "nteract": {
      "version": "0.8.3"
    }
  },
  "nbformat": 4,
  "nbformat_minor": 4
}