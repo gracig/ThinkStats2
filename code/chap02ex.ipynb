{
  "cells": [
    {
      "cell_type": "markdown",
      "source": [
        "# Examples and Exercises from Think Stats, 2nd Edition\n",
        "\n",
        "http://thinkstats2.com\n",
        "\n",
        "Copyright 2016 Allen B. Downey\n",
        "\n",
        "MIT License: https://opensource.org/licenses/MIT\n"
      ],
      "metadata": {}
    },
    {
      "cell_type": "code",
      "source": [
        "from __future__ import print_function, division\n",
        "\n",
        "%matplotlib inline\n",
        "\n",
        "import numpy as np\n",
        "\n",
        "import nsfg\n",
        "import first"
      ],
      "outputs": [],
      "execution_count": 3,
      "metadata": {
        "collapsed": true
      }
    },
    {
      "cell_type": "markdown",
      "source": [
        "Given a list of values, there are several ways to count the frequency of each value."
      ],
      "metadata": {}
    },
    {
      "cell_type": "code",
      "source": [
        "t = [1, 2, 2, 3, 5]"
      ],
      "outputs": [],
      "execution_count": 4,
      "metadata": {
        "collapsed": true
      }
    },
    {
      "cell_type": "markdown",
      "source": [
        "You can use a Python dictionary:"
      ],
      "metadata": {}
    },
    {
      "cell_type": "code",
      "source": [
        "hist = {}\n",
        "for x in t:\n",
        "    hist[x] = hist.get(x, 0) + 1\n",
        "    \n",
        "hist"
      ],
      "outputs": [
        {
          "output_type": "execute_result",
          "execution_count": 5,
          "data": {
            "text/plain": [
              "{1: 1, 2: 2, 3: 1, 5: 1}"
            ]
          },
          "metadata": {}
        }
      ],
      "execution_count": 5,
      "metadata": {
        "collapsed": false
      }
    },
    {
      "cell_type": "markdown",
      "source": [
        "You can use a `Counter` (which is a dictionary with additional methods):"
      ],
      "metadata": {}
    },
    {
      "cell_type": "code",
      "source": [
        "from collections import Counter\n",
        "counter = Counter(t)\n",
        "counter"
      ],
      "outputs": [
        {
          "output_type": "execute_result",
          "execution_count": 6,
          "data": {
            "text/plain": [
              "Counter({1: 1, 2: 2, 3: 1, 5: 1})"
            ]
          },
          "metadata": {}
        }
      ],
      "execution_count": 6,
      "metadata": {
        "collapsed": false
      }
    },
    {
      "cell_type": "markdown",
      "source": [
        "Or you can use the `Hist` object provided by `thinkstats2`:"
      ],
      "metadata": {}
    },
    {
      "cell_type": "code",
      "source": [
        "import thinkstats2\n",
        "hist = thinkstats2.Hist([1, 2, 2, 3, 5])\n",
        "hist"
      ],
      "outputs": [
        {
          "output_type": "execute_result",
          "execution_count": 7,
          "data": {
            "text/plain": [
              "Hist({1: 1, 2: 2, 3: 1, 5: 1})"
            ]
          },
          "metadata": {}
        }
      ],
      "execution_count": 7,
      "metadata": {
        "collapsed": false
      }
    },
    {
      "cell_type": "markdown",
      "source": [
        "`Hist` provides `Freq`, which looks up the frequency of a value."
      ],
      "metadata": {}
    },
    {
      "cell_type": "code",
      "source": [
        "hist.Freq(2)"
      ],
      "outputs": [
        {
          "output_type": "execute_result",
          "execution_count": 8,
          "data": {
            "text/plain": [
              "2"
            ]
          },
          "metadata": {}
        }
      ],
      "execution_count": 8,
      "metadata": {
        "collapsed": false
      }
    },
    {
      "cell_type": "markdown",
      "source": [
        "You can also use the bracket operator, which does the same thing."
      ],
      "metadata": {}
    },
    {
      "cell_type": "code",
      "source": [
        "hist[2]"
      ],
      "outputs": [
        {
          "output_type": "execute_result",
          "execution_count": 9,
          "data": {
            "text/plain": [
              "2"
            ]
          },
          "metadata": {}
        }
      ],
      "execution_count": 9,
      "metadata": {
        "collapsed": false
      }
    },
    {
      "cell_type": "markdown",
      "source": [
        "If the value does not appear, it has frequency 0."
      ],
      "metadata": {}
    },
    {
      "cell_type": "code",
      "source": [
        "hist[4]"
      ],
      "outputs": [
        {
          "output_type": "execute_result",
          "execution_count": 10,
          "data": {
            "text/plain": [
              "0"
            ]
          },
          "metadata": {}
        }
      ],
      "execution_count": 10,
      "metadata": {
        "collapsed": false
      }
    },
    {
      "cell_type": "markdown",
      "source": [
        "The `Values` method returns the values:"
      ],
      "metadata": {}
    },
    {
      "cell_type": "code",
      "source": [
        "hist.Values()"
      ],
      "outputs": [
        {
          "output_type": "execute_result",
          "execution_count": 11,
          "data": {
            "text/plain": [
              "dict_keys([1, 2, 3, 5])"
            ]
          },
          "metadata": {}
        }
      ],
      "execution_count": 11,
      "metadata": {
        "collapsed": false
      }
    },
    {
      "cell_type": "markdown",
      "source": [
        "So you can iterate the values and their frequencies like this:"
      ],
      "metadata": {}
    },
    {
      "cell_type": "code",
      "source": [
        "for val in sorted(hist.Values()):\n",
        "    print(val, hist[val])"
      ],
      "outputs": [
        {
          "output_type": "stream",
          "name": "stdout",
          "text": [
            "1 1\n",
            "2 2\n",
            "3 1\n",
            "5 1\n"
          ]
        }
      ],
      "execution_count": 12,
      "metadata": {
        "collapsed": false
      }
    },
    {
      "cell_type": "markdown",
      "source": [
        "Or you can use the `Items` method:"
      ],
      "metadata": {}
    },
    {
      "cell_type": "code",
      "source": [
        "for val, freq in hist.Items():\n",
        "     print(val, freq)"
      ],
      "outputs": [
        {
          "output_type": "stream",
          "name": "stdout",
          "text": [
            "1 1\n",
            "2 2\n",
            "3 1\n",
            "5 1\n"
          ]
        }
      ],
      "execution_count": 13,
      "metadata": {
        "collapsed": false
      }
    },
    {
      "cell_type": "markdown",
      "source": [
        "`thinkplot` is a wrapper for `matplotlib` that provides functions that work with the objects in `thinkstats2`.\n",
        "\n",
        "For example `Hist` plots the values and their frequencies as a bar graph.\n",
        "\n`Config` takes parameters that label the x and y axes, among other things."
      ],
      "metadata": {}
    },
    {
      "cell_type": "code",
      "source": [
        "import thinkplot\n",
        "thinkplot.Hist(hist)\n",
        "thinkplot.Config(xlabel='value', ylabel='frequency')"
      ],
      "outputs": [
        {
          "output_type": "stream",
          "name": "stderr",
          "text": [
            "No handles with labels found to put in legend.\n"
          ]
        },
        {
          "output_type": "display_data",
          "data": {
            "text/plain": [
              "<Figure size 432x288 with 1 Axes>"
            ],
            "image/png": "[encoded data removed]"
          },
          "metadata": {}
        }
      ],
      "execution_count": 14,
      "metadata": {
        "collapsed": false
      }
    },
    {
      "cell_type": "markdown",
      "source": [
        "As an example, I'll replicate some of the figures from the book.\n",
        "\nFirst, I'll load the data from the pregnancy file and select the records for live births."
      ],
      "metadata": {}
    },
    {
      "cell_type": "code",
      "source": [
        "preg = nsfg.ReadFemPreg()\n",
        "live = preg[preg.outcome == 1]"
      ],
      "outputs": [],
      "execution_count": 15,
      "metadata": {
        "collapsed": true
      }
    },
    {
      "cell_type": "markdown",
      "source": [
        "Here's the histogram of birth weights in pounds.  Notice that `Hist` works with anything iterable, including a Pandas Series.  The `label` attribute appears in the legend when you plot the `Hist`. "
      ],
      "metadata": {}
    },
    {
      "cell_type": "code",
      "source": [
        "hist = thinkstats2.Hist(live.birthwgt_lb, label='birthwgt_lb')\n",
        "thinkplot.Hist(hist)\n",
        "thinkplot.Config(xlabel='Birth weight (pounds)', ylabel='Count')"
      ],
      "outputs": [
        {
          "output_type": "display_data",
          "data": {
            "text/plain": [
              "<Figure size 432x288 with 1 Axes>"
            ],
            "image/png": "[encoded data removed]"
          },
          "metadata": {}
        }
      ],
      "execution_count": 16,
      "metadata": {
        "collapsed": false
      }
    },
    {
      "cell_type": "markdown",
      "source": [
        "Before plotting the ages, I'll apply `floor` to round down:"
      ],
      "metadata": {}
    },
    {
      "cell_type": "code",
      "source": [
        "ages = np.floor(live.agepreg)"
      ],
      "outputs": [],
      "execution_count": 17,
      "metadata": {
        "collapsed": false
      }
    },
    {
      "cell_type": "code",
      "source": [
        "hist = thinkstats2.Hist(ages, label='agepreg')\n",
        "thinkplot.Hist(hist)\n",
        "thinkplot.Config(xlabel='years', ylabel='Count')"
      ],
      "outputs": [
        {
          "output_type": "display_data",
          "data": {
            "text/plain": [
              "<Figure size 432x288 with 1 Axes>"
            ],
            "image/png": "[encoded data removed]"
          },
          "metadata": {}
        }
      ],
      "execution_count": 18,
      "metadata": {
        "collapsed": false
      }
    },
    {
      "cell_type": "markdown",
      "source": [
        "As an exercise, plot the histogram of pregnancy lengths (column `prglngth`)."
      ],
      "metadata": {}
    },
    {
      "cell_type": "code",
      "source": [
        "\n",
        "hist = thinkstats2.Hist(live.prglngth, label = \"prglngth\")\n",
        "\n",
        "thinkplot.Hist(hist)\n",
        "thinkplot.Config(xlabel='weeks', ylabel='Count')"
      ],
      "outputs": [
        {
          "output_type": "display_data",
          "data": {
            "text/plain": [
              "<Figure size 432x288 with 1 Axes>"
            ],
            "image/png": "[encoded data removed]"
          },
          "metadata": {}
        }
      ],
      "execution_count": 68,
      "metadata": {
        "collapsed": false
      }
    },
    {
      "cell_type": "markdown",
      "source": [
        "`Hist` provides smallest, which select the lowest values and their frequencies."
      ],
      "metadata": {}
    },
    {
      "cell_type": "code",
      "source": [
        "for weeks, freq in hist.Smallest(10):\n",
        "    print(weeks, freq)"
      ],
      "outputs": [
        {
          "output_type": "stream",
          "name": "stdout",
          "text": [
            "0 1\n",
            "4 1\n",
            "9 1\n",
            "13 1\n",
            "17 2\n",
            "18 1\n",
            "19 1\n",
            "20 1\n",
            "21 2\n",
            "22 7\n"
          ]
        }
      ],
      "execution_count": 69,
      "metadata": {
        "collapsed": false
      }
    },
    {
      "cell_type": "markdown",
      "source": [
        "Use `Largest` to display the longest pregnancy lengths."
      ],
      "metadata": {}
    },
    {
      "cell_type": "code",
      "source": [
        "for weeks, freq in hist.Largest(10):\n",
        "    print(weeks, freq)"
      ],
      "outputs": [
        {
          "output_type": "stream",
          "name": "stdout",
          "text": [
            "50 2\n",
            "48 7\n",
            "47 1\n",
            "46 1\n",
            "45 10\n",
            "44 46\n",
            "43 148\n",
            "42 328\n",
            "41 587\n",
            "40 1116\n"
          ]
        }
      ],
      "execution_count": 70,
      "metadata": {
        "collapsed": false
      }
    },
    {
      "cell_type": "markdown",
      "source": [
        "From live births, we can selection first babies and others using `birthord`, then compute histograms of pregnancy length for the two groups."
      ],
      "metadata": {}
    },
    {
      "cell_type": "code",
      "source": [
        "firsts = live[live.birthord == 1]\n",
        "others = live[live.birthord != 1]\n",
        "\n",
        "first_hist = thinkstats2.Hist(firsts.prglngth, label='first')\n",
        "other_hist = thinkstats2.Hist(others.prglngth, label='other')"
      ],
      "outputs": [],
      "execution_count": 75,
      "metadata": {
        "collapsed": true
      }
    },
    {
      "cell_type": "markdown",
      "source": [
        "We can use `width` and `align` to plot two histograms side-by-side."
      ],
      "metadata": {}
    },
    {
      "cell_type": "code",
      "source": [
        "width = 0.45\n",
        "thinkplot.PrePlot(2)\n",
        "thinkplot.Hist(first_hist, align='right', width=width)\n",
        "thinkplot.Hist(other_hist, align='left', width=width)\n",
        "thinkplot.Config(xlabel='weeks', ylabel='Count', xlim=[27, 46])"
      ],
      "outputs": [
        {
          "output_type": "display_data",
          "data": {
            "text/plain": [
              "<Figure size 432x288 with 1 Axes>"
            ],
            "image/png": "[encoded data removed]"
          },
          "metadata": {}
        }
      ],
      "execution_count": 76,
      "metadata": {
        "collapsed": false
      }
    },
    {
      "cell_type": "markdown",
      "source": [
        "`Series` provides methods to compute summary statistics:"
      ],
      "metadata": {}
    },
    {
      "cell_type": "code",
      "source": [
        "mean = live.prglngth.mean()\n",
        "var = live.prglngth.var()\n",
        "std = live.prglngth.std()"
      ],
      "outputs": [],
      "execution_count": 78,
      "metadata": {
        "collapsed": true
      }
    },
    {
      "cell_type": "markdown",
      "source": [
        "Here are the mean and standard deviation:"
      ],
      "metadata": {}
    },
    {
      "cell_type": "code",
      "source": [
        "mean, std"
      ],
      "outputs": [
        {
          "output_type": "execute_result",
          "execution_count": 79,
          "data": {
            "text/plain": [
              "(38.56055968517709, 2.702343810070587)"
            ]
          },
          "metadata": {}
        }
      ],
      "execution_count": 79,
      "metadata": {
        "collapsed": false
      }
    },
    {
      "cell_type": "markdown",
      "source": [
        "As an exercise, confirm that `std` is the square root of `var`:"
      ],
      "metadata": {}
    },
    {
      "cell_type": "code",
      "source": [
        "var == std*std"
      ],
      "outputs": [
        {
          "output_type": "execute_result",
          "execution_count": 89,
          "data": {
            "text/plain": [
              "True"
            ]
          },
          "metadata": {}
        }
      ],
      "execution_count": 89,
      "metadata": {
        "collapsed": false
      }
    },
    {
      "cell_type": "markdown",
      "source": [
        "Here's are the mean pregnancy lengths for first babies and others:"
      ],
      "metadata": {}
    },
    {
      "cell_type": "code",
      "source": [
        "firsts.prglngth.mean(), others.prglngth.mean()"
      ],
      "outputs": [
        {
          "output_type": "execute_result",
          "execution_count": 27,
          "data": {
            "text/plain": [
              "(38.60095173351461, 38.52291446673706)"
            ]
          },
          "metadata": {}
        }
      ],
      "execution_count": 27,
      "metadata": {
        "collapsed": false
      }
    },
    {
      "cell_type": "markdown",
      "source": [
        "And here's the difference (in weeks):"
      ],
      "metadata": {}
    },
    {
      "cell_type": "code",
      "source": [
        "firsts.prglngth.mean() - others.prglngth.mean()"
      ],
      "outputs": [
        {
          "output_type": "execute_result",
          "execution_count": 28,
          "data": {
            "text/plain": [
              "0.07803726677754952"
            ]
          },
          "metadata": {}
        }
      ],
      "execution_count": 28,
      "metadata": {
        "collapsed": false
      }
    },
    {
      "cell_type": "markdown",
      "source": [
        "This functon computes the Cohen effect size, which is the difference in means expressed in number of standard deviations:"
      ],
      "metadata": {}
    },
    {
      "cell_type": "code",
      "source": [
        "def CohenEffectSize(group1, group2):\n",
        "    \"\"\"Computes Cohen's effect size for two groups.\n",
        "    \n",
        "    group1: Series or DataFrame\n",
        "    group2: Series or DataFrame\n",
        "    \n",
        "    returns: float if the arguments are Series;\n",
        "             Series if the arguments are DataFrames\n",
        "    \"\"\"\n",
        "    diff = group1.mean() - group2.mean()\n",
        "\n",
        "    var1 = group1.var()\n",
        "    var2 = group2.var()\n",
        "    n1, n2 = len(group1), len(group2)\n",
        "\n",
        "    pooled_var = (n1 * var1 + n2 * var2) / (n1 + n2)\n",
        "    d = diff / np.sqrt(pooled_var)\n",
        "    return d"
      ],
      "outputs": [],
      "execution_count": 91,
      "metadata": {
        "collapsed": true
      }
    },
    {
      "cell_type": "markdown",
      "source": [
        "Compute the Cohen effect size for the difference in pregnancy length for first babies and others."
      ],
      "metadata": {}
    },
    {
      "cell_type": "code",
      "source": [
        "CohenEffectSize(firsts.prglngth, others.prglngth)"
      ],
      "outputs": [
        {
          "output_type": "execute_result",
          "execution_count": 94,
          "data": {
            "text/plain": [
              "0.028879044654449834"
            ]
          },
          "metadata": {}
        }
      ],
      "execution_count": 94,
      "metadata": {
        "collapsed": false
      }
    },
    {
      "cell_type": "markdown",
      "source": [
        "## Exercises"
      ],
      "metadata": {
        "collapsed": true
      }
    },
    {
      "cell_type": "markdown",
      "source": [
        "Using the variable `totalwgt_lb`, investigate whether first babies are lighter or heavier than others. \n",
        "\n",
        "Compute Cohen’s effect size to quantify the difference between the groups.  How does it compare to the difference in pregnancy length?\n",
        "\n",
        "Answer: First babies are slightly lighter than others by -0.12lbs in average.\n",
        "Cohens's D is 0.09 lbs.\n",
        "\nSo first babies takes more time to born and are lighter"
      ],
      "metadata": {}
    },
    {
      "cell_type": "code",
      "source": [
        "\n"
      ],
      "outputs": [],
      "execution_count": 240,
      "metadata": {
        "collapsed": false
      }
    },
    {
      "cell_type": "code",
      "source": [
        "import pandas as pd\n",
        "def PlotDoubleHist(series1, series2, series1label, series2label, xlabel, ylabel):\n",
        "    series1_hist = thinkstats2.Hist(series1, label=series1label)\n",
        "    series2_hist = thinkstats2.Hist(series2, label=series2label)\n",
        "    width = 0.45\n",
        "    thinkplot.PrePlot(2)\n",
        "    thinkplot.Hist(series1_hist, align='right', width=width)\n",
        "    thinkplot.Hist(series2_hist, align='left', width=width)\n",
        "    thinkplot.Config(xlabel=xlabel, ylabel=ylabel)\n",
        "    print (\"\"\"\n",
        "                         Mean        25th      Median        75th         Std\n",
        "{s1Label:<15}   {s1avg:>11.2f} {s1q25:>11.2f} {s1med:>11.2f} {s1q75:>11.2f} {s1std:>11.2f}\n",
        "{s2Label:<15}   {s2avg:>11.2f} {s2q25:>11.2f} {s2med:>11.2f} {s2q75:>11.2f} {s2std:>11.2f}\n",
        "    \n",
        "    Average Diff: {diff:>10.2f} {measure}\n",
        "    Cohen's D   : {cohensd:>10.2f} {measure}\n",
        "    \"\"\".format(\n",
        "        measure=xlabel,\n",
        "        cohensd = CohenEffectSize(series1,series2),\n",
        "        diff    = series1.mean() - series2.mean(),\n",
        "        s1Label = series1label,\n",
        "        s1avg   = series1.mean(),\n",
        "        s1q25   = series1.quantile(q=0.25),\n",
        "        s1med   = series1.median(),\n",
        "        s1q75   = series1.quantile(q=0.75),\n",
        "        s1std   = series1.std(),\n",
        "        s2Label = series2label,\n",
        "        s2avg   = series2.mean(),\n",
        "        s2q25   = series2.quantile(q=0.25),\n",
        "        s2med   = series2.median(),\n",
        "        s2q75   = series2.quantile(q=0.75),\n",
        "        s2std   = series2.std(),\n",
        "    ))\n",
        "    \n",
        "PlotDoubleHist(\n",
        "    series1=firsts.totalwgt_lb, series1label=\"Firsts weight\",\n",
        "    series2=others.totalwgt_lb, series2label=\"Others weight\",\n",
        "    xlabel = \"Pounds\",\n",
        "    ylabel = \"Frequency\" )"
      ],
      "outputs": [
        {
          "output_type": "stream",
          "name": "stdout",
          "text": [
            "\n",
            "                         Mean        25th      Median        75th         Std\n",
            "Firsts weight            7.20        6.44        7.31        8.00        1.42\n",
            "Others weight            7.33        6.50        7.38        8.19        1.39\n",
            "    \n",
            "    Average Diff:      -0.12 Pounds\n",
            "    Cohen's D   :      -0.09 Pounds\n",
            "    \n"
          ]
        },
        {
          "output_type": "display_data",
          "data": {
            "text/plain": [
              "<Figure size 432x288 with 1 Axes>"
            ],
            "image/png": "[encoded data removed]"
          },
          "metadata": {}
        }
      ],
      "execution_count": 293,
      "metadata": {
        "collapsed": false,
        "outputHidden": false,
        "inputHidden": false
      }
    },
    {
      "cell_type": "markdown",
      "source": [
        "For the next few exercises, we'll load the respondent file:"
      ],
      "metadata": {}
    },
    {
      "cell_type": "code",
      "source": [
        "resp = nsfg.ReadFemResp()"
      ],
      "outputs": [],
      "execution_count": 261,
      "metadata": {
        "collapsed": false
      }
    },
    {
      "cell_type": "markdown",
      "source": [
        "Make a histogram of <tt>totincr</tt> the total income for the respondent's family.  To interpret the codes see the [codebook](http://www.icpsr.umich.edu/nsfg6/Controller?displayPage=labelDetails&fileCode=FEM&section=R&subSec=7876&srtLabel=607543)."
      ],
      "metadata": {}
    },
    {
      "cell_type": "code",
      "source": [
        "totincr_hist = thinkstats2.Hist(resp.totincr, label=\"totincr\")\n",
        "thinkplot.Hist(totincr_hist)\n",
        "thinkplot.Config(xlabel=\"Income interval\")"
      ],
      "outputs": [
        {
          "output_type": "display_data",
          "data": {
            "text/plain": [
              "<Figure size 432x288 with 1 Axes>"
            ],
            "image/png": "[encoded data removed]"
          },
          "metadata": {}
        }
      ],
      "execution_count": 270,
      "metadata": {
        "collapsed": false
      }
    },
    {
      "cell_type": "markdown",
      "source": [
        "Make a histogram of <tt>age_r</tt>, the respondent's age at the time of interview."
      ],
      "metadata": {}
    },
    {
      "cell_type": "code",
      "source": [
        "ager_hist = thinkstats2.Hist(resp.age_r, label=\"age_r\")\n",
        "thinkplot.Hist(ager_hist)\n",
        "thinkplot.Config(xlabel=\"Age\")"
      ],
      "outputs": [
        {
          "output_type": "display_data",
          "data": {
            "text/plain": [
              "<Figure size 432x288 with 1 Axes>"
            ],
            "image/png": "[encoded data removed]"
          },
          "metadata": {}
        }
      ],
      "execution_count": 271,
      "metadata": {
        "collapsed": false
      }
    },
    {
      "cell_type": "markdown",
      "source": [
        "Make a histogram of <tt>numfmhh</tt>, the number of people in the respondent's household."
      ],
      "metadata": {}
    },
    {
      "cell_type": "code",
      "source": [
        "numfmhh_hist = thinkstats2.Hist(resp.numfmhh, label=\"numfmhh\")\n",
        "thinkplot.Hist(numfmhh_hist)\n",
        "thinkplot.Config(xlabel=\"Number of peoples\")"
      ],
      "outputs": [
        {
          "output_type": "display_data",
          "data": {
            "text/plain": [
              "<Figure size 432x288 with 1 Axes>"
            ],
            "image/png": "[encoded data removed]"
          },
          "metadata": {}
        }
      ],
      "execution_count": 273,
      "metadata": {
        "collapsed": false
      }
    },
    {
      "cell_type": "markdown",
      "source": [
        "Make a histogram of <tt>parity</tt>, the number of children borne by the respondent.  How would you describe this distribution?"
      ],
      "metadata": {}
    },
    {
      "cell_type": "code",
      "source": [
        "parity_hist = thinkstats2.Hist(resp.parity, label=\"parity\")\n",
        "thinkplot.Hist(parity_hist)\n",
        "thinkplot.Config(xlabel=\"Children Borns\")"
      ],
      "outputs": [
        {
          "output_type": "display_data",
          "data": {
            "text/plain": [
              "<Figure size 432x288 with 1 Axes>"
            ],
            "image/png": "[encoded data removed]"
          },
          "metadata": {}
        }
      ],
      "execution_count": 274,
      "metadata": {
        "collapsed": false
      }
    },
    {
      "cell_type": "markdown",
      "source": [
        "Use Hist.Largest to find the largest values of <tt>parity</tt>."
      ],
      "metadata": {}
    },
    {
      "cell_type": "code",
      "source": [
        "parity_hist.Largest()"
      ],
      "outputs": [
        {
          "output_type": "execute_result",
          "execution_count": 275,
          "data": {
            "text/plain": [
              "[(22, 1),\n",
              " (16, 1),\n",
              " (10, 3),\n",
              " (9, 2),\n",
              " (8, 8),\n",
              " (7, 15),\n",
              " (6, 29),\n",
              " (5, 95),\n",
              " (4, 309),\n",
              " (3, 828)]"
            ]
          },
          "metadata": {}
        }
      ],
      "execution_count": 275,
      "metadata": {
        "collapsed": false
      }
    },
    {
      "cell_type": "markdown",
      "source": [
        "Let's investigate whether people with higher income have higher parity.  Keep in mind that in this study, we are observing different people at different times during their lives, so this data is not the best choice for answering this question.  But for now let's take it at face value.\n",
        "\nUse <tt>totincr</tt> to select the respondents with the highest income (level 14).  Plot the histogram of <tt>parity</tt> for just the high income respondents."
      ],
      "metadata": {}
    },
    {
      "cell_type": "code",
      "source": [
        "riches = resp[resp.totincr==14]\n",
        "poors  = resp[resp.totincr < 14]\n",
        "\n",
        "PlotDoubleHist(series1=riches.parity, series1label=\"Riches Parity\", \n",
        "              series2=poors.parity, series2label=\"Poors Parity\",\n",
        "              xlabel = \"parity\", ylabel=\"Count\")"
      ],
      "outputs": [
        {
          "output_type": "stream",
          "name": "stdout",
          "text": [
            "\n",
            "                         Mean        25th      Median        75th         Std\n",
            "Riches Parity            1.08        0.00        1.00        2.00        1.18\n",
            "Poors Parity             1.25        0.00        1.00        2.00        1.42\n",
            "    \n",
            "    Average Diff:      -0.17 parity\n",
            "    Cohen's D   :      -0.13 parity\n",
            "    \n"
          ]
        },
        {
          "output_type": "display_data",
          "data": {
            "text/plain": [
              "<Figure size 432x288 with 1 Axes>"
            ],
            "image/png": "[encoded data removed]"
          },
          "metadata": {}
        }
      ],
      "execution_count": 294,
      "metadata": {
        "collapsed": false
      }
    },
    {
      "cell_type": "markdown",
      "source": [
        "Find the largest parities for high income respondents."
      ],
      "metadata": {}
    },
    {
      "cell_type": "code",
      "source": [
        "rParity = thinkstats2.Hist(riches.parity, label = \"Riches\")\n",
        "print(\"High: \", rParity.Largest())\n",
        "pParity = thinkstats2.Hist(poors.parity, label = \"Poors\")\n",
        "print(\"Low :\", pParity.Largest())"
      ],
      "outputs": [
        {
          "output_type": "stream",
          "name": "stdout",
          "text": [
            "High:  [(8, 1), (7, 1), (5, 5), (4, 19), (3, 123), (2, 267), (1, 229), (0, 515)]\n",
            "Low : [(22, 1), (16, 1), (10, 3), (9, 2), (8, 7), (7, 14), (6, 29), (5, 90), (4, 290), (3, 705)]\n"
          ]
        }
      ],
      "execution_count": 291,
      "metadata": {
        "collapsed": false
      }
    },
    {
      "cell_type": "markdown",
      "source": [
        "Compare the mean <tt>parity</tt> for high income respondents and others."
      ],
      "metadata": {}
    },
    {
      "cell_type": "code",
      "source": [
        "riches.parity.mean(), poors.parity.mean(), riches.parity.mean() - poors.parity.mean() "
      ],
      "outputs": [
        {
          "output_type": "execute_result",
          "execution_count": 295,
          "data": {
            "text/plain": [
              "(1.0758620689655172, 1.2495758136665125, -0.17371374470099532)"
            ]
          },
          "metadata": {}
        }
      ],
      "execution_count": 295,
      "metadata": {
        "collapsed": false
      }
    },
    {
      "cell_type": "markdown",
      "source": [
        "Compute the Cohen effect size for this difference.  How does it compare with the difference in pregnancy length for first babies and others?\n",
        "\n"
      ],
      "metadata": {}
    },
    {
      "cell_type": "code",
      "source": [
        "CohenEffectSize(riches.parity, poors.parity)"
      ],
      "outputs": [
        {
          "output_type": "execute_result",
          "execution_count": 296,
          "data": {
            "text/plain": [
              "-0.12511855314660367"
            ]
          },
          "metadata": {}
        }
      ],
      "execution_count": 296,
      "metadata": {
        "collapsed": false
      }
    },
    {
      "cell_type": "code",
      "source": [],
      "outputs": [],
      "execution_count": 43,
      "metadata": {
        "collapsed": true
      }
    }
  ],
  "metadata": {
    "kernelspec": {
      "name": "thinkstats",
      "language": "python",
      "display_name": "Python (ThinkStats)"
    },
    "language_info": {
      "name": "python",
      "version": "3.6.4",
      "mimetype": "text/x-python",
      "codemirror_mode": {
        "name": "ipython",
        "version": 3
      },
      "pygments_lexer": "ipython3",
      "nbconvert_exporter": "python",
      "file_extension": ".py"
    },
    "kernel_info": {
      "name": "thinkstats"
    },
    "nteract": {
      "version": "0.8.3"
    }
  },
  "nbformat": 4,
  "nbformat_minor": 0
}