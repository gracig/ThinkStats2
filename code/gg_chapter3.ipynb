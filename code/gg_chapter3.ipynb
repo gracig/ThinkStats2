{
  "cells": [
    {
      "cell_type": "code",
      "source": [
        "\n",
        "from __future__ import print_function\n",
        "\n",
        "import math\n",
        "import numpy as np\n",
        "\n",
        "import nsfg\n",
        "import first\n",
        "import thinkstats2\n",
        "import thinkplot"
      ],
      "outputs": [],
      "execution_count": 2,
      "metadata": {
        "collapsed": false,
        "outputHidden": false,
        "inputHidden": false
      }
    },
    {
      "cell_type": "code",
      "source": [
        "pmf = thinkstats2.Pmf([1,2,2,3,5])\n",
        "print(\"PMF: \",pmf)\n",
        "print(\"Probability Associated with a value:\", pmf.Prob(2))\n",
        "print(\"Bracket operator also works:\", pmf[2])\n",
        "print(\"Incrementing probability:\", pmf.Incr(2,0.2), pmf[2] )\n",
        "print(\"Multiplying probability by a factor:\", pmf.Mult(2,0.5), pmf[2])\n",
        "print(\"Total: \", pmf.Total())\n",
        "print(\"Nomalizing:\", pmf.Normalize(), pmf.Total())\n"
      ],
      "outputs": [
        {
          "output_type": "stream",
          "name": "stdout",
          "text": [
            "PMF:  Pmf({1: 0.2, 2: 0.4, 3: 0.2, 5: 0.2})\n",
            "Probability Associated with a value: 0.4\n",
            "Bracket operator also works: 0.4\n",
            "Incrementing probability: None 0.6000000000000001\n",
            "Multiplying probability by a factor: None 0.30000000000000004\n",
            "Total:  0.8999999999999999\n",
            "Nomalizing: 0.8999999999999999 1.0\n"
          ]
        }
      ],
      "execution_count": 18,
      "metadata": {
        "collapsed": false,
        "outputHidden": false,
        "inputHidden": false
      }
    },
    {
      "cell_type": "code",
      "source": [
        "def MakeFrames():\n",
        "    \"\"\"Reads pregnancy data and partitions first babies and others.\n",
        "\n",
        "    returns: DataFrames (all live births, first babies, others)\n",
        "    \"\"\"\n",
        "    preg = nsfg.ReadFemPreg()\n",
        "\n",
        "    live = preg[preg.outcome == 1]\n",
        "    firsts = live[live.birthord == 1]\n",
        "    others = live[live.birthord != 1]\n",
        "\n",
        "    assert len(live) == 9148\n",
        "    assert len(firsts) == 4413\n",
        "    assert len(others) == 4735\n",
        "\n",
        "    return live, firsts, others\n",
        "\n",
        "def PlotDoublePmf (p1, p2, xlabel,ylabel,axis):\n",
        "    #Init Graph\n",
        "    width=0.45\n",
        "    thinkplot.PrePlot(2, cols=2)\n",
        "    thinkplot.Hist(p1, align=\"right\", width=width)\n",
        "    thinkplot.Hist(p2, align=\"left\" , width=width)\n",
        "    thinkplot.Config( xlabel = xlabel, ylabel=ylabel, axis=axis)\n",
        "\n",
        "    thinkplot.PrePlot(2)\n",
        "    thinkplot.SubPlot(2)\n",
        "    thinkplot.Pmfs([p1,p2])\n",
        "    thinkplot.Show(xlabel=xlabel, ylabel=ylabel, axis=axis)\n",
        "\n\n\n"
      ],
      "outputs": [],
      "execution_count": 66,
      "metadata": {
        "collapsed": false,
        "outputHidden": false,
        "inputHidden": false
      }
    },
    {
      "cell_type": "code",
      "source": [
        "live, firsts, others = MakeFrames()\n",
        "first_pmf = thinkstats2.Pmf(firsts.prglngth, label = \"Firsts Length\")\n",
        "other_pmf = thinkstats2.Pmf(others.prglngth, label = \"Others Length\")\n",
        "PlotDoublePmf(first_pmf,other_pmf,\"Weeks\",\"Probability\",[27,46,0,0.6])\n",
        "\n"
      ],
      "outputs": [
        {
          "output_type": "display_data",
          "data": {
            "text/plain": [
              "<Figure size 864x432 with 2 Axes>"
            ],
            "image/png": "[encoded data removed]"
          },
          "metadata": {}
        },
        {
          "output_type": "display_data",
          "data": {
            "text/plain": [
              "<Figure size 576x432 with 0 Axes>"
            ]
          },
          "metadata": {}
        }
      ],
      "execution_count": 67,
      "metadata": {
        "collapsed": false,
        "outputHidden": false,
        "inputHidden": false
      }
    },
    {
      "cell_type": "code",
      "source": [
        "weeks = range(35,46)\n",
        "diffs = []\n",
        "for week in weeks:\n",
        "    p1 = first_pmf.Prob(week)\n",
        "    p2 = other_pmf.Prob(week)\n",
        "    diff = 100 * (p1 - p2)\n",
        "    diffs.append(diff)\n",
        "thinkplot.Bar(weeks, diffs)"
      ],
      "outputs": [
        {
          "output_type": "display_data",
          "data": {
            "text/plain": [
              "<Figure size 432x288 with 1 Axes>"
            ],
            "image/png": "[encoded data removed]"
          },
          "metadata": {}
        }
      ],
      "execution_count": 77,
      "metadata": {
        "collapsed": false,
        "outputHidden": false,
        "inputHidden": false
      }
    },
    {
      "cell_type": "code",
      "source": [
        "d = { \n",
        "    7:8,\n",
        "    12:8,\n",
        "    17:14,\n",
        "    22:4,\n",
        "    27:6,\n",
        "    32:12,\n",
        "    37:8,\n",
        "    42:3,\n",
        "    47:2\n",
        "}\n",
        "pmf = thinkstats2.Pmf(d, label='actual')\n",
        "print ('mean %.2f' % pmf.Mean())"
      ],
      "outputs": [
        {
          "output_type": "stream",
          "name": "stdout",
          "text": [
            "mean 23.69\n"
          ]
        }
      ],
      "execution_count": 82,
      "metadata": {
        "collapsed": false,
        "outputHidden": false,
        "inputHidden": false
      }
    },
    {
      "cell_type": "code",
      "source": [
        "def BiasPmf (pmf, label):\n",
        "    new_pmf = pmf.Copy(label = label)\n",
        "    for x, p in pmf.Items():\n",
        "        new_pmf.Mult(x, x)\n",
        "    new_pmf.Normalize()\n",
        "    return new_pmf\n",
        "\n",
        "def UnbiasPmf (pmf, label): \n",
        "    new_pmf = pmf.Copy(label = label)\n",
        "    for x, p in pmf.Items():\n",
        "        new_pmf.Mult(x, 1.0/x)\n",
        "    new_pmf.Normalize()\n",
        "    return new_pmf\n",
        "    "
      ],
      "outputs": [],
      "execution_count": 130,
      "metadata": {
        "collapsed": false,
        "outputHidden": false,
        "inputHidden": false
      }
    },
    {
      "cell_type": "code",
      "source": [
        "biased_pmf = BiasPmf(pmf, label = \"Observed\")\n",
        "PlotDoublePmf(pmf, biased_pmf, \"class size\", \"probability\", \n",
        "  [0,53, 0,0.27])"
      ],
      "outputs": [
        {
          "output_type": "display_data",
          "data": {
            "text/plain": [
              "<Figure size 864x432 with 2 Axes>"
            ],
            "image/png": "[encoded data removed]"
          },
          "metadata": {}
        },
        {
          "output_type": "display_data",
          "data": {
            "text/plain": [
              "<Figure size 576x432 with 0 Axes>"
            ]
          },
          "metadata": {}
        }
      ],
      "execution_count": 129,
      "metadata": {
        "collapsed": false,
        "outputHidden": false,
        "inputHidden": false
      }
    },
    {
      "cell_type": "code",
      "source": [
        "unbiased_pmf = UnbiasPmf(pmf, label = \"Unbias\")\n",
        "PlotDoublePmf(pmf, unbiased_pmf, \"class size\", \"probability\", \n",
        "  [0,53, 0,0.32])"
      ],
      "outputs": [
        {
          "output_type": "display_data",
          "data": {
            "text/plain": [
              "<Figure size 864x432 with 2 Axes>"
            ],
            "image/png": "[encoded data removed]"
          },
          "metadata": {}
        },
        {
          "output_type": "display_data",
          "data": {
            "text/plain": [
              "<Figure size 576x432 with 0 Axes>"
            ]
          },
          "metadata": {}
        }
      ],
      "execution_count": 135,
      "metadata": {
        "collapsed": false,
        "outputHidden": false,
        "inputHidden": false
      }
    },
    {
      "cell_type": "code",
      "source": [
        "import numpy as np\n",
        "import pandas\n",
        "\n",
        "print (\"Array: \")\n",
        "array = np.random.randn(4,2)\n",
        "print(array)\n",
        "\n",
        "print (\"\\nDataframe with columns\")\n",
        "columns = ['A', 'B']\n",
        "df = pandas.DataFrame(array, columns=columns)\n",
        "print (df)\n",
        "\n",
        "print (\"\\nDataframe with index and columns\")\n",
        "index = ['a','b','c','d']\n",
        "df = pandas.DataFrame(array, index=index, columns=columns)\n",
        "print (df)\n",
        "\n"
      ],
      "outputs": [
        {
          "output_type": "stream",
          "name": "stdout",
          "text": [
            "Array: \n",
            "[[-1.93126524 -0.79106295]\n",
            " [-0.67810546 -0.27792605]\n",
            " [ 0.17008912  1.54848165]\n",
            " [ 0.0503211   1.45710618]]\n",
            "\n",
            "Dataframe with columns\n",
            "          A         B\n",
            "0 -1.931265 -0.791063\n",
            "1 -0.678105 -0.277926\n",
            "2  0.170089  1.548482\n",
            "3  0.050321  1.457106\n",
            "\n",
            "Dataframe with index and columns\n",
            "          A         B\n",
            "a -1.931265 -0.791063\n",
            "b -0.678105 -0.277926\n",
            "c  0.170089  1.548482\n",
            "d  0.050321  1.457106\n"
          ]
        }
      ],
      "execution_count": 150,
      "metadata": {
        "collapsed": false,
        "outputHidden": false,
        "inputHidden": false
      }
    },
    {
      "cell_type": "code",
      "source": [
        "df ['A']"
      ],
      "outputs": [
        {
          "output_type": "execute_result",
          "execution_count": 151,
          "data": {
            "text/plain": [
              "a   -1.931265\n",
              "b   -0.678105\n",
              "c    0.170089\n",
              "d    0.050321\n",
              "Name: A, dtype: float64"
            ]
          },
          "metadata": {}
        }
      ],
      "execution_count": 151,
      "metadata": {
        "collapsed": false,
        "outputHidden": false,
        "inputHidden": false
      }
    },
    {
      "cell_type": "code",
      "source": [
        "df.loc['a']"
      ],
      "outputs": [
        {
          "output_type": "execute_result",
          "execution_count": 152,
          "data": {
            "text/plain": [
              "A   -1.931265\n",
              "B   -0.791063\n",
              "Name: a, dtype: float64"
            ]
          },
          "metadata": {}
        }
      ],
      "execution_count": 152,
      "metadata": {
        "collapsed": false,
        "outputHidden": false,
        "inputHidden": false
      }
    },
    {
      "cell_type": "code",
      "source": [
        "df.iloc[0]"
      ],
      "outputs": [
        {
          "output_type": "execute_result",
          "execution_count": 153,
          "data": {
            "text/plain": [
              "A   -1.931265\n",
              "B   -0.791063\n",
              "Name: a, dtype: float64"
            ]
          },
          "metadata": {}
        }
      ],
      "execution_count": 153,
      "metadata": {
        "collapsed": false,
        "outputHidden": false,
        "inputHidden": false
      }
    },
    {
      "cell_type": "code",
      "source": [
        "indices = ['a','c']\n",
        "df.loc[indices]"
      ],
      "outputs": [
        {
          "output_type": "execute_result",
          "execution_count": 154,
          "data": {
            "text/plain": [
              "          A         B\n",
              "a -1.931265 -0.791063\n",
              "c  0.170089  1.548482"
            ],
            "text/html": [
              "<div>\n",
              "<style scoped>\n",
              "    .dataframe tbody tr th:only-of-type {\n",
              "        vertical-align: middle;\n",
              "    }\n",
              "\n",
              "    .dataframe tbody tr th {\n",
              "        vertical-align: top;\n",
              "    }\n",
              "\n",
              "    .dataframe thead th {\n",
              "        text-align: right;\n",
              "    }\n",
              "</style>\n",
              "<table border=\"1\" class=\"dataframe\">\n",
              "  <thead>\n",
              "    <tr style=\"text-align: right;\">\n",
              "      <th></th>\n",
              "      <th>A</th>\n",
              "      <th>B</th>\n",
              "    </tr>\n",
              "  </thead>\n",
              "  <tbody>\n",
              "    <tr>\n",
              "      <th>a</th>\n",
              "      <td>-1.931265</td>\n",
              "      <td>-0.791063</td>\n",
              "    </tr>\n",
              "    <tr>\n",
              "      <th>c</th>\n",
              "      <td>0.170089</td>\n",
              "      <td>1.548482</td>\n",
              "    </tr>\n",
              "  </tbody>\n",
              "</table>\n",
              "</div>"
            ]
          },
          "metadata": {}
        }
      ],
      "execution_count": 154,
      "metadata": {
        "collapsed": false,
        "outputHidden": false,
        "inputHidden": false
      }
    },
    {
      "cell_type": "code",
      "source": [
        "df[0:2]"
      ],
      "outputs": [
        {
          "output_type": "execute_result",
          "execution_count": 155,
          "data": {
            "text/plain": [
              "          A         B\n",
              "a -1.931265 -0.791063\n",
              "b -0.678105 -0.277926"
            ],
            "text/html": [
              "<div>\n",
              "<style scoped>\n",
              "    .dataframe tbody tr th:only-of-type {\n",
              "        vertical-align: middle;\n",
              "    }\n",
              "\n",
              "    .dataframe tbody tr th {\n",
              "        vertical-align: top;\n",
              "    }\n",
              "\n",
              "    .dataframe thead th {\n",
              "        text-align: right;\n",
              "    }\n",
              "</style>\n",
              "<table border=\"1\" class=\"dataframe\">\n",
              "  <thead>\n",
              "    <tr style=\"text-align: right;\">\n",
              "      <th></th>\n",
              "      <th>A</th>\n",
              "      <th>B</th>\n",
              "    </tr>\n",
              "  </thead>\n",
              "  <tbody>\n",
              "    <tr>\n",
              "      <th>a</th>\n",
              "      <td>-1.931265</td>\n",
              "      <td>-0.791063</td>\n",
              "    </tr>\n",
              "    <tr>\n",
              "      <th>b</th>\n",
              "      <td>-0.678105</td>\n",
              "      <td>-0.277926</td>\n",
              "    </tr>\n",
              "  </tbody>\n",
              "</table>\n",
              "</div>"
            ]
          },
          "metadata": {}
        }
      ],
      "execution_count": 155,
      "metadata": {
        "collapsed": false,
        "outputHidden": false,
        "inputHidden": false
      }
    },
    {
      "cell_type": "code",
      "source": [],
      "outputs": [],
      "execution_count": null,
      "metadata": {
        "collapsed": false,
        "outputHidden": false,
        "inputHidden": false
      }
    }
  ],
  "metadata": {
    "kernel_info": {
      "name": "thinkstats"
    },
    "kernelspec": {
      "name": "thinkstats",
      "language": "python",
      "display_name": "Python (ThinkStats)"
    },
    "language_info": {
      "name": "python",
      "version": "3.6.4",
      "mimetype": "text/x-python",
      "codemirror_mode": {
        "name": "ipython",
        "version": 3
      },
      "pygments_lexer": "ipython3",
      "nbconvert_exporter": "python",
      "file_extension": ".py"
    },
    "nteract": {
      "version": "0.9.0"
    }
  },
  "nbformat": 4,
  "nbformat_minor": 4
}